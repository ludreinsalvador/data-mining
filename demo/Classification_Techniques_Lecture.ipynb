{
 "cells": [
  {
   "cell_type": "markdown",
   "id": "478403c3",
   "metadata": {},
   "source": [
    "\n",
    "# Classification Techniques in Python  \n",
    "### Decision Tree & K-Nearest Neighbors (KNN)  \n",
    "**Learning Outcome (LO10):** Apply classification techniques using Python to solve real-world problems.\n"
   ]
  },
  {
   "cell_type": "markdown",
   "id": "e4a93233",
   "metadata": {},
   "source": [
    "\n",
    "## What is Classification?\n",
    "\n",
    "Classification is a supervised machine learning task where the goal is to **predict a category or class label** based on input features.\n",
    "\n",
    "Examples:\n",
    "- Email → Spam or Not Spam  \n",
    "- Student Data → At Risk or Not At Risk  \n",
    "- Loan Application → Approved or Rejected  \n",
    "\n",
    "Let’s simulate a dataset and look at how classification works.\n"
   ]
  },
  {
   "cell_type": "code",
   "execution_count": 1,
   "id": "1e46fe1f",
   "metadata": {},
   "outputs": [
    {
     "data": {
      "text/html": [
       "<div>\n",
       "<style scoped>\n",
       "    .dataframe tbody tr th:only-of-type {\n",
       "        vertical-align: middle;\n",
       "    }\n",
       "\n",
       "    .dataframe tbody tr th {\n",
       "        vertical-align: top;\n",
       "    }\n",
       "\n",
       "    .dataframe thead th {\n",
       "        text-align: right;\n",
       "    }\n",
       "</style>\n",
       "<table border=\"1\" class=\"dataframe\">\n",
       "  <thead>\n",
       "    <tr style=\"text-align: right;\">\n",
       "      <th></th>\n",
       "      <th>feature1</th>\n",
       "      <th>feature2</th>\n",
       "      <th>feature3</th>\n",
       "      <th>feature4</th>\n",
       "      <th>target</th>\n",
       "    </tr>\n",
       "  </thead>\n",
       "  <tbody>\n",
       "    <tr>\n",
       "      <th>0</th>\n",
       "      <td>-0.925336</td>\n",
       "      <td>-1.140215</td>\n",
       "      <td>-0.838792</td>\n",
       "      <td>1.695858</td>\n",
       "      <td>0</td>\n",
       "    </tr>\n",
       "    <tr>\n",
       "      <th>1</th>\n",
       "      <td>-0.461711</td>\n",
       "      <td>-0.587231</td>\n",
       "      <td>-1.971718</td>\n",
       "      <td>2.037310</td>\n",
       "      <td>0</td>\n",
       "    </tr>\n",
       "    <tr>\n",
       "      <th>2</th>\n",
       "      <td>1.440444</td>\n",
       "      <td>1.777367</td>\n",
       "      <td>1.511576</td>\n",
       "      <td>-2.797760</td>\n",
       "      <td>1</td>\n",
       "    </tr>\n",
       "    <tr>\n",
       "      <th>3</th>\n",
       "      <td>1.547117</td>\n",
       "      <td>1.899693</td>\n",
       "      <td>0.834445</td>\n",
       "      <td>-2.399814</td>\n",
       "      <td>1</td>\n",
       "    </tr>\n",
       "    <tr>\n",
       "      <th>4</th>\n",
       "      <td>0.883943</td>\n",
       "      <td>1.068339</td>\n",
       "      <td>-0.970073</td>\n",
       "      <td>-0.261560</td>\n",
       "      <td>1</td>\n",
       "    </tr>\n",
       "    <tr>\n",
       "      <th>5</th>\n",
       "      <td>1.425444</td>\n",
       "      <td>1.727259</td>\n",
       "      <td>-1.185827</td>\n",
       "      <td>-0.712069</td>\n",
       "      <td>1</td>\n",
       "    </tr>\n",
       "    <tr>\n",
       "      <th>6</th>\n",
       "      <td>-0.580675</td>\n",
       "      <td>-0.720634</td>\n",
       "      <td>-0.960593</td>\n",
       "      <td>1.397206</td>\n",
       "      <td>0</td>\n",
       "    </tr>\n",
       "    <tr>\n",
       "      <th>7</th>\n",
       "      <td>-0.762815</td>\n",
       "      <td>-0.938205</td>\n",
       "      <td>-0.543048</td>\n",
       "      <td>1.284181</td>\n",
       "      <td>1</td>\n",
       "    </tr>\n",
       "    <tr>\n",
       "      <th>8</th>\n",
       "      <td>-1.597318</td>\n",
       "      <td>-1.962874</td>\n",
       "      <td>-0.992251</td>\n",
       "      <td>2.577940</td>\n",
       "      <td>0</td>\n",
       "    </tr>\n",
       "    <tr>\n",
       "      <th>9</th>\n",
       "      <td>-2.389360</td>\n",
       "      <td>-2.895397</td>\n",
       "      <td>1.976862</td>\n",
       "      <td>1.201904</td>\n",
       "      <td>0</td>\n",
       "    </tr>\n",
       "  </tbody>\n",
       "</table>\n",
       "</div>"
      ],
      "text/plain": [
       "   feature1  feature2  feature3  feature4  target\n",
       "0 -0.925336 -1.140215 -0.838792  1.695858       0\n",
       "1 -0.461711 -0.587231 -1.971718  2.037310       0\n",
       "2  1.440444  1.777367  1.511576 -2.797760       1\n",
       "3  1.547117  1.899693  0.834445 -2.399814       1\n",
       "4  0.883943  1.068339 -0.970073 -0.261560       1\n",
       "5  1.425444  1.727259 -1.185827 -0.712069       1\n",
       "6 -0.580675 -0.720634 -0.960593  1.397206       0\n",
       "7 -0.762815 -0.938205 -0.543048  1.284181       1\n",
       "8 -1.597318 -1.962874 -0.992251  2.577940       0\n",
       "9 -2.389360 -2.895397  1.976862  1.201904       0"
      ]
     },
     "execution_count": 1,
     "metadata": {},
     "output_type": "execute_result"
    }
   ],
   "source": [
    "\n",
    "from sklearn.datasets import make_classification\n",
    "import pandas as pd\n",
    "\n",
    "X, y = make_classification(n_samples=10, n_features=4, n_classes=2, random_state=42)\n",
    "df = pd.DataFrame(X, columns=[\"feature1\", \"feature2\", \"feature3\", \"feature4\"])\n",
    "df['target'] = y\n",
    "df\n"
   ]
  },
  {
   "cell_type": "markdown",
   "id": "8b9aecd6",
   "metadata": {},
   "source": [
    "\n",
    "## Decision Tree Classifier\n",
    "\n",
    "A **Decision Tree** is a flowchart-like structure used to make decisions based on splitting the data by feature values.\n",
    "\n",
    "- Easy to interpret and visualize\n",
    "- Splits data based on criteria like Gini or Entropy\n",
    "- Risk of overfitting\n",
    "\n",
    "Let's train one using `DecisionTreeClassifier`.\n"
   ]
  },
  {
   "cell_type": "code",
   "execution_count": 2,
   "id": "0d3812b2",
   "metadata": {},
   "outputs": [
    {
     "data": {
      "text/plain": [
       "1.0"
      ]
     },
     "execution_count": 2,
     "metadata": {},
     "output_type": "execute_result"
    }
   ],
   "source": [
    "\n",
    "from sklearn.tree import DecisionTreeClassifier\n",
    "from sklearn.model_selection import train_test_split\n",
    "from sklearn.metrics import accuracy_score\n",
    "\n",
    "# Train/test split\n",
    "X_train, X_test, y_train, y_test = train_test_split(X, y, test_size=0.3, random_state=42)\n",
    "\n",
    "# Train Decision Tree\n",
    "clf_tree = DecisionTreeClassifier(random_state=42)\n",
    "clf_tree.fit(X_train, y_train)\n",
    "\n",
    "# Predict\n",
    "y_pred_tree = clf_tree.predict(X_test)\n",
    "\n",
    "# Evaluate\n",
    "accuracy_score(y_test, y_pred_tree)\n"
   ]
  },
  {
   "cell_type": "markdown",
   "id": "b80d2cc5",
   "metadata": {},
   "source": [
    "\n",
    "## K-Nearest Neighbors (KNN)\n",
    "\n",
    "**KNN** is an instance-based classifier that looks at the \"K\" closest training points to classify a new sample.\n",
    "\n",
    "- Simple and effective\n",
    "- Sensitive to feature scaling\n",
    "- Slower on large datasets\n",
    "\n",
    "Let's build one using `KNeighborsClassifier`.\n"
   ]
  },
  {
   "cell_type": "code",
   "execution_count": 3,
   "id": "eb481325",
   "metadata": {},
   "outputs": [
    {
     "data": {
      "text/plain": [
       "1.0"
      ]
     },
     "execution_count": 3,
     "metadata": {},
     "output_type": "execute_result"
    }
   ],
   "source": [
    "\n",
    "from sklearn.neighbors import KNeighborsClassifier\n",
    "from sklearn.preprocessing import StandardScaler\n",
    "\n",
    "# Scale the features\n",
    "scaler = StandardScaler()\n",
    "X_scaled = scaler.fit_transform(X)\n",
    "\n",
    "X_train_knn, X_test_knn, y_train_knn, y_test_knn = train_test_split(X_scaled, y, test_size=0.3, random_state=42)\n",
    "\n",
    "# Train KNN\n",
    "clf_knn = KNeighborsClassifier(n_neighbors=3)\n",
    "clf_knn.fit(X_train_knn, y_train_knn)\n",
    "\n",
    "# Predict\n",
    "y_pred_knn = clf_knn.predict(X_test_knn)\n",
    "\n",
    "# Evaluate\n",
    "accuracy_score(y_test_knn, y_pred_knn)\n"
   ]
  },
  {
   "cell_type": "markdown",
   "id": "270a1be2",
   "metadata": {},
   "source": [
    "\n",
    "## Model Evaluation Metrics\n",
    "\n",
    "To assess model performance, we use metrics like:\n",
    "\n",
    "- **Accuracy** – How often is the prediction correct?\n",
    "- **Confusion Matrix** – Breaks down TP, TN, FP, FN\n",
    "- **Precision, Recall, F1-score** – Especially useful for imbalanced data\n",
    "\n",
    "Let’s show a confusion matrix for both models.\n"
   ]
  },
  {
   "cell_type": "code",
   "execution_count": 4,
   "id": "8a4467f0",
   "metadata": {},
   "outputs": [
    {
     "data": {
      "text/plain": [
       "<sklearn.metrics._plot.confusion_matrix.ConfusionMatrixDisplay at 0x244928f0ec0>"
      ]
     },
     "execution_count": 4,
     "metadata": {},
     "output_type": "execute_result"
    },
    {
     "data": {
      "image/png": "[encoded data removed]",
      "text/plain": [
       "<Figure size 640x480 with 2 Axes>"
      ]
     },
     "metadata": {},
     "output_type": "display_data"
    }
   ],
   "source": [
    "\n",
    "from sklearn.metrics import confusion_matrix, ConfusionMatrixDisplay\n",
    "\n",
    "# Confusion Matrix for Decision Tree\n",
    "cm_tree = confusion_matrix(y_test, y_pred_tree)\n",
    "disp_tree = ConfusionMatrixDisplay(confusion_matrix=cm_tree)\n",
    "disp_tree.plot()\n"
   ]
  },
  {
   "cell_type": "code",
   "execution_count": 5,
   "id": "ac5f2201",
   "metadata": {},
   "outputs": [
    {
     "data": {
      "text/plain": [
       "<sklearn.metrics._plot.confusion_matrix.ConfusionMatrixDisplay at 0x2449539c980>"
      ]
     },
     "execution_count": 5,
     "metadata": {},
     "output_type": "execute_result"
    },
    {
     "data": {
      "image/png": "[encoded data removed]",
      "text/plain": [
       "<Figure size 640x480 with 2 Axes>"
      ]
     },
     "metadata": {},
     "output_type": "display_data"
    }
   ],
   "source": [
    "\n",
    "# Confusion Matrix for KNN\n",
    "cm_knn = confusion_matrix(y_test_knn, y_pred_knn)\n",
    "disp_knn = ConfusionMatrixDisplay(confusion_matrix=cm_knn)\n",
    "disp_knn.plot()\n"
   ]
  },
  {
   "cell_type": "markdown",
   "id": "0e11b27d",
   "metadata": {},
   "source": [
    "\n",
    "## ✅ Summary\n",
    "\n",
    "- Classification predicts categories or labels\n",
    "- Decision Tree is interpretable and visual\n",
    "- KNN is simple but requires scaling\n",
    "- Use `accuracy`, `confusion_matrix`, and `f1-score` to evaluate models\n",
    "- Practice with your own dataset in the mini-project\n"
   ]
  }
 ],
 "metadata": {
  "kernelspec": {
   "display_name": "Python 3 (ipykernel)",
   "language": "python",
   "name": "python3"
  },
  "language_info": {
   "codemirror_mode": {
    "name": "ipython",
    "version": 3
   },
   "file_extension": ".py",
   "mimetype": "text/x-python",
   "name": "python",
   "nbconvert_exporter": "python",
   "pygments_lexer": "ipython3",
   "version": "3.13.5"
  }
 },
 "nbformat": 4,
 "nbformat_minor": 5
}
