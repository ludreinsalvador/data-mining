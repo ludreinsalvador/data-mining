{
 "cells": [
  {
   "cell_type": "markdown",
   "id": "eae4b7e7-1b8d-4434-876b-aea1c650bb6c",
   "metadata": {},
   "source": [
    "## Section 1: Import Libraries and Load the Dataset\n",
    "\n",
    "This section loads the core libraries used for data analysis and visualization:\n",
    "\n",
    "- **pandas** (`pd`) – for loading and manipulating datasets in tabular format.\n",
    "- **numpy** (`np`) – for numerical and statistical computations.\n",
    "- **matplotlib.pyplot** (`plt`) – for creating static visualizations like bar charts and line plots.\n",
    "- **seaborn** (`sns`) – a statistical plotting library built on top of matplotlib for prettier and simpler plots.\n",
    "\n",
    "Finally, the dataset `student_dataset.csv` is loaded into a DataFrame named `df`, which will serve as the main data source throughout the notebook.\n"
   ]
  },
  {
   "cell_type": "code",
   "execution_count": 1,
   "id": "2cafd7f7-1da2-4926-87e0-bcdef1463dc2",
   "metadata": {},
   "outputs": [],
   "source": [
    "# Load essential data science libraries\n",
    "\n",
    "\n",
    "# Load the student dataset CSV\n",
    "\n"
   ]
  },
  {
   "cell_type": "markdown",
   "id": "f93f1ef7-9e1f-40c2-a525-7ea7ea7edc73",
   "metadata": {},
   "source": [
    "## Section 2: Initial Data Exploration\n",
    "\n",
    "In this section, we use the `.head()` function to preview the **first 5 rows** of the dataset.\n",
    "\n",
    "This is a quick way to:\n",
    "- Inspect the structure and contents of the DataFrame\n",
    "- Verify that the dataset was loaded correctly\n",
    "- Identify column names and sample values\n",
    "- Spot-check data formats like dates, numbers, or text categories\n",
    "\n",
    "This early look helps in planning the next steps such as data cleaning, transformation, or visualization.\n"
   ]
  },
  {
   "cell_type": "code",
   "execution_count": 2,
   "id": "4200c1a3-ab54-4773-ab72-fd72b3a351e4",
   "metadata": {},
   "outputs": [],
   "source": [
    "#Preview the first 5 records\n",
    "\n"
   ]
  },
  {
   "cell_type": "markdown",
   "id": "7985e2cc-1ff9-470e-b6df-15e4d7f21a1f",
   "metadata": {},
   "source": [
    "\n",
    "\n",
    "#### `df.dtypes`\n",
    "This command displays the data type of each column in the DataFrame. Understanding data types is important because:\n",
    "- **object** usually means text/string data\n",
    "- **int64** is for whole numbers\n",
    "- **float64** is for decimal numbers\n",
    "- **bool** is for True/False values\n",
    "\n",
    "Correct data types help ensure that mathematical operations and visualizations work properly.\n",
    "\n",
    "#### `df.shape`\n",
    "This command returns a tuple showing the number of **rows** and **columns** in the dataset.  \n",
    "For example, a result like `(1330, 13)` means:\n",
    "- 1330 rows (students)\n",
    "- 13 columns (data features)\n"
   ]
  },
  {
   "cell_type": "code",
   "execution_count": 3,
   "id": "fc36dc36-8673-4e8b-a97c-29c636498c0b",
   "metadata": {},
   "outputs": [],
   "source": [
    "#Check data types of each column\n",
    "\n"
   ]
  },
  {
   "cell_type": "code",
   "execution_count": 4,
   "id": "da81ff57-9a33-44fe-9d29-48e4bd57eeca",
   "metadata": {},
   "outputs": [],
   "source": [
    "#Check shape (rows, columns)\n",
    "\n"
   ]
  },
  {
   "cell_type": "markdown",
   "id": "6cd98244-8517-4eaa-84a3-7e6a69a6faf8",
   "metadata": {},
   "source": [
    "The command `df.isnull().sum()` is used to **identify missing or null values** in the dataset.\n",
    "\n",
    "- It returns a count of missing values for each column.\n",
    "- A result of `0` means there are no missing values in that column.\n",
    "- A value greater than `0` indicates potential data quality issues.\n",
    "\n",
    "In this case:\n",
    "- All columns have complete data **except** for `academic_probation_status`, which has **1,123 missing values**.\n",
    "- This likely means that only a small portion of students are under probation, and the rest are left blank (which may be interpreted as \"Not on probation\").\n",
    "\n",
    "Knowing where data is missing helps you decide whether to clean, impute, or ignore certain columns during analysis.\n"
   ]
  },
  {
   "cell_type": "code",
   "execution_count": 5,
   "id": "ca3b1b2a-d660-4e49-870d-9aee50ad99ed",
   "metadata": {},
   "outputs": [],
   "source": [
    "#Check for missing values\n",
    "\n"
   ]
  },
  {
   "cell_type": "markdown",
   "id": "5796152d-8592-40f5-9424-96df304a5a89",
   "metadata": {},
   "source": [
    "The command `df.describe(include='all')` generates **summary statistics** for both numerical and categorical columns in the dataset.\n",
    "\n",
    "Here's what each row means:\n",
    "\n",
    "- **count** – Number of non-null entries in each column\n",
    "- **unique** – Number of unique values (only for categorical/object columns)\n",
    "- **top** – Most frequently occurring value (also called the mode)\n",
    "- **freq** – How many times the `top` value appears\n",
    "- **mean** – Average (for numeric columns only)\n",
    "- **std** – Standard deviation (spread of numeric values)\n",
    "- **min / max** – Minimum and maximum values\n",
    "- **25% / 50% / 75%** – Percentile values (useful for understanding distribution)\n",
    "\n",
    "For example:\n",
    "- The `course` column's most common value (`top`) is **Human Resource Management (BSBA-HRM)**, appearing **234 times**.\n",
    "- The `balance` column has an average of about ₱6,495.54 and a maximum of ₱39,983.\n",
    "- The `number_of_units_enrolled` ranges from **15 to 24 units**, with a median of **18 units**.\n",
    "\n",
    "This summary gives a quick overview of both data distribution and potential patterns.\n"
   ]
  },
  {
   "cell_type": "code",
   "execution_count": 6,
   "id": "1bec564a-e3ad-4f21-a7c9-429c1a993b5f",
   "metadata": {},
   "outputs": [],
   "source": [
    "# Summary statistics (numeric + categorical)\n",
    "\n"
   ]
  },
  {
   "cell_type": "markdown",
   "id": "90bbb545-5243-4c22-9478-838e66e241f1",
   "metadata": {},
   "source": [
    "## Section 3: Frequency Counts\n",
    "\n",
    "The command `df['gender'].value_counts()` shows the **frequency of each unique value** in the `gender` column.\n",
    "\n",
    "This is useful to:\n",
    "- Understand how many records belong to each category (e.g., Male vs. Female)\n",
    "- Check for imbalances or skewed distributions in categorical data\n",
    "- Identify unexpected values or typos in categorical columns\n",
    "\n",
    "This function is commonly used on fields like `course`, `municipality`, `payment_status`, etc., to get a quick summary of how data is distributed.\n"
   ]
  },
  {
   "cell_type": "code",
   "execution_count": 7,
   "id": "e827d3b1-6f24-428a-ab1b-5d6bd55fe0f3",
   "metadata": {},
   "outputs": [],
   "source": [
    "#Gender distribution\n",
    "\n"
   ]
  },
  {
   "cell_type": "markdown",
   "id": "08277545-dd34-400f-8bf9-6691823d8181",
   "metadata": {},
   "source": [
    "### Frequency Counts – Number of Students per Course\n",
    "\n",
    "The command `df['course'].value_counts()` shows how many students are enrolled in each academic program.\n",
    "\n",
    "#### Output (Top to Bottom):\n",
    "- **Human Resource Management (BSBA-HRM)**: 234 students\n",
    "- **Interactive Entertainment & Multimedia Computing (BS-IEMC)**: 226 students\n",
    "- **Cybersecurity (BSCSEC)**: 222 students\n",
    "- **Business Solutions & Applications (BSBA-BSAA)**: 222 students\n",
    "- **Business Intelligence & Analytics (BSBA-BIA)**: 219 students\n",
    "- **Information Systems (BS-IS)**: 207 students\n",
    "\n",
    "This breakdown helps us:\n",
    "- Understand the distribution of students across different programs\n",
    "- Identify which course has the highest or lowest enrollment\n",
    "- Prepare program-specific statistics or visualizations later\n",
    "\n",
    "It’s especially useful for plotting bar charts or evaluating program popularity.\n"
   ]
  },
  {
   "cell_type": "code",
   "execution_count": 8,
   "id": "6553e584-ce9f-4c35-a455-2de74215f2d1",
   "metadata": {},
   "outputs": [],
   "source": [
    "#Number of students per course\n",
    "\n"
   ]
  },
  {
   "cell_type": "markdown",
   "id": "da54bd58-5b07-40e5-b31f-74a7293cb7fa",
   "metadata": {},
   "source": [
    "###  Frequency Counts – Student Nationalities\n",
    "\n",
    "The command `df['nationality'].value_counts()` displays the number of students per nationality in the dataset.\n",
    "\n",
    "#### Output:\n",
    "- **Filipino**: 1,259 students\n",
    "- **American**: 25 students\n",
    "- **Chinese**: 13 students\n",
    "- **Vietnamese**: 12 students\n",
    "- **Korean**: 11 students\n",
    "- **Japanese**: 10 students\n",
    "\n",
    "This confirms that the dataset is predominantly composed of **Filipino students (≈95%)**, with a small percentage representing **foreign nationalities (≈5%)**.\n",
    "\n",
    "This insight is valuable for:\n",
    "- Diversity reporting\n",
    "- Scholarship and support program planning\n",
    "- Visualizing demographic breakdowns using pie or bar charts\n"
   ]
  },
  {
   "cell_type": "code",
   "execution_count": 9,
   "id": "1b8319cc-082d-48ee-8cf3-a2bab3fc6528",
   "metadata": {},
   "outputs": [],
   "source": [
    "# Count of nationalities\n",
    "\n"
   ]
  },
  {
   "cell_type": "markdown",
   "id": "0c3caf41-fd6a-4b94-9178-93e170f9806e",
   "metadata": {},
   "source": [
    "###  Frequency Counts – Top 10 Municipalities\n",
    "\n",
    "The command `df['municipality'].value_counts().head(10)` displays the **10 most common municipalities** represented in the dataset.\n",
    "\n",
    "#### Output:\n",
    "- **Makati**: 78\n",
    "- **Muntinlupa**: 76\n",
    "- **Antipolo**: 75\n",
    "- **Pasig**: 74\n",
    "- **Mandaluyong**: 67\n",
    "- **Marikina**: 64\n",
    "- **Imus**: 63\n",
    "- **Caloocan**: 60\n",
    "- **Pasay**: 60\n",
    "- **Taguig**: 59\n",
    "\n",
    "This gives a snapshot of where most students are coming from. It is useful for:\n",
    "- Identifying location-based trends or outreach opportunities\n",
    "- Tailoring services or marketing by geographic concentration\n",
    "- Visualizing regional density using bar charts or maps\n"
   ]
  },
  {
   "cell_type": "code",
   "execution_count": 10,
   "id": "8ab60d20-774c-4cd5-bcf0-aa0afe957a22",
   "metadata": {},
   "outputs": [],
   "source": [
    "# Top 10 municipalities\n",
    "\n"
   ]
  },
  {
   "cell_type": "markdown",
   "id": "9acd9f6e-f4ba-4388-8622-6c6b3c5c57ca",
   "metadata": {},
   "source": [
    " ## Section 4: Numpy-Based Statistics\n",
    "\n",
    "This section uses `NumPy` to perform basic statistical analysis on numerical columns in the dataset.\n",
    "\n",
    "#### 1. Mean of `number_of_units_enrolled`\n",
    "```python\n",
    "np.mean(df[\"number_of_units_enrolled\"])\n",
    "```\n",
    "- Calculates the **average number of units** that students are currently enrolled in.\n",
    "- Example Output: `19.39` means students typically enroll in around 19–20 units.\n",
    "\n",
    "#### 2. Median of `last_term_GWA`\n",
    "```python\n",
    "np.median(df[\"last_term_GWA\"])\n",
    "```\n",
    "- Calculates the **middle value** of the last term’s GWA when all values are sorted.\n",
    "- Example Output: `3.5` implies that half of the students have a GWA above 3.5, and half below.\n",
    "\n",
    "#### 3. Standard Deviation of `last_term_GWA`\n",
    "```python\n",
    "np.std(df[\"last_term_GWA\"])\n",
    "```\n",
    "- Measures how much the GWA values vary from the mean.\n",
    "- Example Output: `0.81` suggests most students have a GWA relatively close to the average.\n",
    "\n",
    "These simple statistical metrics help summarize trends and identify potential outliers in the data.\n"
   ]
  },
  {
   "cell_type": "code",
   "execution_count": 11,
   "id": "10b10c80-8c6f-4f90-8ce0-b08da2663bf0",
   "metadata": {},
   "outputs": [],
   "source": [
    "# Mean of enrolled units\n",
    "\n"
   ]
  },
  {
   "cell_type": "code",
   "execution_count": 12,
   "id": "dbc986d7-e7ee-4779-9ae5-34b39a8bb655",
   "metadata": {},
   "outputs": [],
   "source": [
    "# Median of last term GWA\n",
    "\n"
   ]
  },
  {
   "cell_type": "code",
   "execution_count": 13,
   "id": "eaee5de6-39e9-4375-bdf6-2ed557f440f8",
   "metadata": {},
   "outputs": [],
   "source": [
    "# Standard deviation of GWA\n",
    "\n"
   ]
  },
  {
   "cell_type": "markdown",
   "id": "cc6f9f4b-fec1-49e2-a934-ab27e39b0522",
   "metadata": {},
   "source": [
    "\n",
    "\n",
    "##  Section 5: Data Visualization – Gender Distribution\n",
    "\n",
    "This chart uses `seaborn.countplot()` to visually represent the number of students by gender.\n",
    "\n",
    "#### Code Breakdown:\n",
    "- `sns.set(style=\"whitegrid\")` – applies a clean background grid style to the chart.\n",
    "- `plt.figure(figsize=(6, 4))` – sets the width and height of the plot.\n",
    "- `sns.countplot(x=\"gender\", data=df)` – creates a bar chart showing the frequency of each gender in the dataset.\n",
    "- `plt.title()` – sets the title of the chart.\n",
    "- `plt.show()` – renders the final plot.\n",
    "\n",
    "This type of visualization is useful for:\n",
    "- Quickly identifying the dominant gender in the dataset\n",
    "- Presenting categorical distributions clearly and visually\n"
   ]
  },
  {
   "cell_type": "code",
   "execution_count": 14,
   "id": "46220369-3027-42ca-97fa-f9dc32df6ac0",
   "metadata": {},
   "outputs": [],
   "source": [
    "# Gender Distribution\n",
    "\n"
   ]
  },
  {
   "cell_type": "markdown",
   "id": "92df4857-bc73-4a7f-a161-a12a84aca16a",
   "metadata": {},
   "source": [
    "### Pie Chart – Gender Distribution\n",
    "\n",
    "This pie chart presents the proportion of male and female students in the dataset using `matplotlib`.\n",
    "\n",
    "#### Code Explanation:\n",
    "- `df['gender'].value_counts()` counts the number of Male and Female entries.\n",
    "- `plt.pie()` creates the pie chart using:\n",
    "  - `labels` to show each gender\n",
    "  - `autopct='%1.1f%%'` to show percentages|\n",
    "  - `startangle=90` to rotate the pie for better visual alignment\n",
    "  - `colors` to manually set blue and pink shades for each gender\n",
    "- `plt.axis('equal')` keeps the pie perfectly circular.\n",
    "\n",
    "#### Insight:\n",
    "From the chart:\n",
    "- **52% of students are Female**\n",
    "- **48% are Male**\n",
    "\n",
    "This pie chart provides a clear, visual summary of gender distribution in the student population.\n"
   ]
  },
  {
   "cell_type": "code",
   "execution_count": 15,
   "id": "e6b556fe-3e57-42bc-859f-cad87042e77a",
   "metadata": {},
   "outputs": [],
   "source": [
    "# Gender Distribution (Pie Chart)\n",
    "\n"
   ]
  },
  {
   "cell_type": "markdown",
   "id": "c9f712b3-c7d3-4d8a-b598-0fe13795cfcc",
   "metadata": {},
   "source": [
    "### Bar Chart – Students per Course\n",
    "\n",
    "This horizontal bar chart visualizes the number of students enrolled in each academic program.\n",
    "\n",
    "#### Code Highlights:\n",
    "- `df['course'] = df['course'].str.replace('\\u2011', '-', regex=False)`  \n",
    "  Replaces **non-breaking hyphens** with standard hyphens to fix display issues (e.g., missing glyphs).\n",
    "- `plt.figure(figsize=(10, 5))`  \n",
    "  Sets the size of the plot (wider layout for long course names).\n",
    "- `sns.countplot()`  \n",
    "  Creates a **horizontal bar chart** (`y=\"course\"`) sorted by most common course.\n",
    "- `plt.title()`, `xlabel()`, `ylabel()`  \n",
    "  Add chart title and axis labels for context.\n",
    "- `plt.tight_layout()`  \n",
    "  Prevents label overlap and ensures spacing looks good.\n",
    "\n",
    "#### Insight:\n",
    "The chart shows how students are distributed across different degree programs. For example:\n",
    "- **Human Resource Management (BSBA-HRM)** has the highest enrollment\n",
    "- **Information Systems (BS-IS)** has the lowest, but still maintains strong representation\n",
    "\n",
    "This helps identify which programs are most popular or may require additional support and resources.\n"
   ]
  },
  {
   "cell_type": "code",
   "execution_count": 16,
   "id": "ca736ff6-0039-4d07-bcd5-d588f37503ca",
   "metadata": {},
   "outputs": [],
   "source": [
    "# Course Enrollment\n",
    "\n",
    "# Replace non-breaking hyphen with normal hyphen\n",
    "\n"
   ]
  },
  {
   "cell_type": "markdown",
   "id": "90656210-29fc-469b-adcd-791d00d6db82",
   "metadata": {},
   "source": [
    "### Histogram – GWA Distribution\n",
    "\n",
    "This histogram visualizes the **distribution of students' GWA (General Weighted Average)** using `seaborn.histplot()`.\n",
    "\n",
    "#### Code Breakdown:\n",
    "- `plt.figure(figsize=(6, 4))` – Sets the plot size.\n",
    "- `sns.histplot(df[\"last_term_GWA\"], bins=10, kde=True)`  \n",
    "  - `bins=10` splits the GWA range into 10 intervals for frequency counting.\n",
    "  - `kde=True` overlays a **Kernel Density Estimate curve** to show the smooth distribution shape.\n",
    "- `plt.title()` and `xlabel()`/`ylabel()` – Add descriptive labels to the chart.\n",
    "- `plt.show()` – Renders the plot.\n",
    "\n",
    "#### Insight:\n",
    "- The majority of students have a GWA between **3.0 and 4.0**, with a visible peak near 3.0–3.5.\n",
    "- A few students have lower GWAs (closer to 1.0), indicating academic risk.\n",
    "- The KDE curve helps us understand the **overall shape** and central tendency of the GWA distribution.\n",
    "\n",
    "This type of chart is ideal for visualizing the **spread, skewness, and clusters** in continuous numeric data.\n"
   ]
  },
  {
   "cell_type": "code",
   "execution_count": 17,
   "id": "21a43efb-7fe2-4797-aa43-7ebdc899bb8f",
   "metadata": {},
   "outputs": [],
   "source": [
    "# GWA Distribution\n",
    "\n"
   ]
  },
  {
   "cell_type": "markdown",
   "id": "40df0403-60c1-4bc0-a083-dbcba351cc2b",
   "metadata": {},
   "source": [
    "### Boxplot – Units Enrolled per Course\n",
    "\n",
    "This boxplot shows the **distribution of enrolled units** for students in each course using `seaborn.boxplot()`.\n",
    "\n",
    "#### Code Breakdown:\n",
    "- `df['course'] = df['course'].str.replace('\\u2011', '-', regex=False)`  \n",
    "  Replaces non-breaking hyphens with standard hyphens to prevent font rendering issues.\n",
    "- `sns.boxplot(x=\"number_of_units_enrolled\", y=\"course\", data=df)`  \n",
    "  Creates a **horizontal boxplot** to compare unit enrollment across courses.\n",
    "- `plt.tight_layout()` ensures the layout is readable and not cramped.\n",
    "\n",
    "#### Interpretation:\n",
    "- Each box shows the **interquartile range (IQR)** — the middle 50% of the data.\n",
    "- The **horizontal line inside the box** is the median.\n",
    "- **Whiskers** represent the range, and **dots (if any)** would indicate outliers.\n",
    "- This chart is useful for spotting:\n",
    "  - Median number of units per course\n",
    "  - Spread and consistency of enrolled units\n",
    "  - Any courses with tighter or wider variation in unit load\n",
    "\n",
    "It’s especially helpful for comparing student workload across different degree programs.\n"
   ]
  },
  {
   "cell_type": "code",
   "execution_count": 18,
   "id": "25b66baf-888a-434e-aa8e-faced1bc6479",
   "metadata": {},
   "outputs": [],
   "source": [
    "# Units Enrolled by Course (Boxplot)\n",
    "\n",
    "# to fix the warning\n",
    "\n"
   ]
  },
  {
   "cell_type": "markdown",
   "id": "e88bca52-01f8-4848-bd61-e73a31302fff",
   "metadata": {},
   "source": [
    "### Boxplot – Balance Distribution (Unpaid Students Only)\n",
    "\n",
    "This boxplot shows the **range and spread of unpaid balances** among students whose `payment_status` is \"With Balance\".\n",
    "\n",
    "#### Code Breakdown:\n",
    "- `df[df[\"balance\"] > 0]` filters the dataset to include only students who have an outstanding balance.\n",
    "- `sns.boxplot(x=\"payment_status\", y=\"balance\", data=...)` creates a boxplot of balances grouped by payment status.\n",
    "- `plt.title()`, `xlabel()`, `ylabel()` – Add informative labels for better understanding.\n",
    "\n",
    "#### Interpretation:\n",
    "- The box represents the **interquartile range (IQR)**—the middle 50% of student balances.\n",
    "- The **line inside the box** shows the **median balance**, which appears to be around ₱25,000.\n",
    "- The **whiskers** extend to the minimum and maximum unpaid amounts (₱10,000 to ₱40,000).\n",
    "\n",
    "This chart is useful for:\n",
    "- Identifying the central tendency and spread of student balances\n",
    "- Understanding tuition affordability patterns\n",
    "- Planning billing interventions or scholarship policies\n"
   ]
  },
  {
   "cell_type": "code",
   "execution_count": 19,
   "id": "c8383223-9d14-453a-aa0f-d8893c183934",
   "metadata": {},
   "outputs": [],
   "source": [
    "# Balance Distribution (Unpaid Students Only)\n",
    "\n"
   ]
  },
  {
   "cell_type": "markdown",
   "id": "05e15962-5959-4459-89cf-0737bdf5909a",
   "metadata": {},
   "source": [
    "---\n",
    "\n",
    "### Final Remarks\n",
    "\n",
    "This notebook provided a complete walkthrough of how to load, explore, analyze, and visualize data using **Pandas**, **NumPy**, **Matplotlib**, and **Seaborn**.\n",
    "\n",
    "We started by:\n",
    "- Importing and cleaning the dataset\n",
    "- Exploring the structure, shape, and data types\n",
    "- Identifying missing values\n",
    "- Summarizing statistics both numerically and visually\n",
    "\n",
    "We then built:\n",
    "- Frequency tables and bar charts for categorical variables\n",
    "- Summary statistics using NumPy\n",
    "- Visualizations including histograms, pie charts, and boxplots\n",
    "\n",
    "The dataset used in this notebook (`student_dataset.csv`) was carefully generated to simulate real academic scenarios such as course enrollments, payment statuses, academic standing, and demographic data. It serves as an excellent hands-on foundation for beginner data analysts and student researchers.\n",
    "\n",
    "**Congratulations on completing this data analysis mini-project!** Feel free to expand this notebook by adding correlation matrices, pivot tables, or even predictive modeling in future versions.\n",
    "\n",
    "---\n"
   ]
  },
  {
   "cell_type": "code",
   "execution_count": null,
   "id": "8dae9b2c-cf2c-4898-a6a6-b9e4ab6605ec",
   "metadata": {},
   "outputs": [],
   "source": []
  }
 ],
 "metadata": {
  "kernelspec": {
   "display_name": "Python 3 (ipykernel)",
   "language": "python",
   "name": "python3"
  },
  "language_info": {
   "codemirror_mode": {
    "name": "ipython",
    "version": 3
   },
   "file_extension": ".py",
   "mimetype": "text/x-python",
   "name": "python",
   "nbconvert_exporter": "python",
   "pygments_lexer": "ipython3",
   "version": "3.13.5"
  }
 },
 "nbformat": 4,
 "nbformat_minor": 5
}
